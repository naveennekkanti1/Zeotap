{
  "nbformat": 4,
  "nbformat_minor": 0,
  "metadata": {
    "colab": {
      "provenance": [],
      "mount_file_id": "18XMDlX7d6uShnS_juGgJ1Qib6crLPmWw",
      "authorship_tag": "ABX9TyOkBP5yuSaQETDcTnxwdmhI",
      "include_colab_link": true
    },
    "kernelspec": {
      "name": "python3",
      "display_name": "Python 3"
    },
    "language_info": {
      "name": "python"
    }
  },
  "cells": [
    {
      "cell_type": "markdown",
      "metadata": {
        "id": "view-in-github",
        "colab_type": "text"
      },
      "source": [
        "<a href=\"https://colab.research.google.com/github/naveennekkanti1/Zeotap/blob/main/Nekkenti_DurgaNaveen_Lookalike.ipynb\" target=\"_parent\"><img src=\"https://colab.research.google.com/assets/colab-badge.svg\" alt=\"Open In Colab\"/></a>"
      ]
    },
    {
      "cell_type": "code",
      "execution_count": null,
      "metadata": {
        "colab": {
          "base_uri": "https://localhost:8080/"
        },
        "id": "0uS62_zOlMrJ",
        "outputId": "d819933e-53cb-4f4a-cb26-44630a5bbe07"
      },
      "outputs": [
        {
          "output_type": "stream",
          "name": "stdout",
          "text": [
            "Lookalike recommendations saved to 'Lookalike.csv'.\n"
          ]
        }
      ],
      "source": [
        "import pandas as pd\n",
        "from sklearn.metrics.pairwise import cosine_similarity\n",
        "from sklearn.preprocessing import StandardScaler\n",
        "\n",
        "# Load datasets\n",
        "customers = pd.read_csv(\"/content/drive/MyDrive/Zetop/Customers.csv\")\n",
        "products = pd.read_csv(\"/content/drive/MyDrive/Zetop/Products.csv\")\n",
        "transactions = pd.read_csv(\"/content/drive/MyDrive/Zetop/Transactions.csv\")\n",
        "\n",
        "# Merge datasets\n",
        "merged_data = transactions.merge(customers, on=\"CustomerID\").merge(products, on=\"ProductID\")\n",
        "\n",
        "# Aggregate data for feature generation\n",
        "customer_transactions = merged_data.groupby(\"CustomerID\").agg({\n",
        "    \"TotalValue\": \"sum\",\n",
        "    \"Quantity\": \"sum\"\n",
        "}).reset_index()\n",
        "\n",
        "# Merge aggregated data with customer profiles\n",
        "customer_data = customers.merge(customer_transactions, on=\"CustomerID\", how=\"left\").fillna(0)\n",
        "\n",
        "# Encode categorical variables (e.g., Region)\n",
        "customer_data_encoded = pd.get_dummies(customer_data, columns=[\"Region\"], drop_first=True)\n",
        "\n",
        "# Feature matrix preparation\n",
        "features = customer_data_encoded.drop(columns=[\"CustomerID\", \"CustomerName\", \"SignupDate\"])\n",
        "scaler = StandardScaler()\n",
        "scaled_features = scaler.fit_transform(features)\n",
        "\n",
        "# Calculate cosine similarity\n",
        "similarity_matrix = cosine_similarity(scaled_features)\n",
        "\n",
        "# Get customer IDs\n",
        "customer_ids = customer_data_encoded[\"CustomerID\"].tolist()\n",
        "\n",
        "# Generate top 3 lookalikes for the first 20 customers\n",
        "lookalike_results = {}\n",
        "\n",
        "for i, customer_id in enumerate(customer_ids[:20]):  # First 20 customers\n",
        "    similarities = list(enumerate(similarity_matrix[i]))\n",
        "    sorted_similarities = sorted(similarities, key=lambda x: x[1], reverse=True)[1:4]  # Exclude self\n",
        "    lookalike_results[customer_id] = [\n",
        "        {\"CustomerID\": customer_ids[idx], \"Score\": round(score, 4)} for idx, score in sorted_similarities\n",
        "    ]\n",
        "\n",
        "# Save results to Lookalike.csv\n",
        "lookalike_df = pd.DataFrame([\n",
        "    {\"CustomerID\": key, \"Lookalikes\": str(value)} for key, value in lookalike_results.items()\n",
        "])\n",
        "lookalike_df.to_csv(\"/content/drive/MyDrive/Zetop/Nekkenti_DurgaNaveen_Lookalike.csv\", index=False)\n",
        "\n",
        "print(\"Lookalike recommendations saved to 'Lookalike.csv'.\")\n"
      ]
    },
    {
      "cell_type": "code",
      "source": [],
      "metadata": {
        "id": "4btPsjnLllLY"
      },
      "execution_count": null,
      "outputs": []
    }
  ]
}